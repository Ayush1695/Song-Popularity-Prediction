{
 "cells": [
  {
   "cell_type": "code",
   "execution_count": 19,
   "id": "e2760c2b",
   "metadata": {
    "ExecuteTime": {
     "end_time": "2022-12-09T19:52:26.684449Z",
     "start_time": "2022-12-09T19:52:26.668274Z"
    }
   },
   "outputs": [],
   "source": [
    "import pandas as pd\n",
    "import seaborn as sns\n",
    "import numpy as np\n",
    "import os\n",
    "import matplotlib.pyplot as plt\n",
    "%matplotlib inline\n",
    "from itertools import product\n",
    "\n",
    "#For proper display of all columns\n",
    "from IPython.display import display\n",
    "pd.options.display.max_columns = None\n",
    "\n",
    "#Import warnings\n",
    "import warnings\n",
    "warnings.filterwarnings(\"ignore\")\n",
    "import gc\n",
    "\n",
    "import statsmodels.api as sm"
   ]
  },
  {
   "cell_type": "code",
   "execution_count": 20,
   "id": "6b2ba884",
   "metadata": {
    "ExecuteTime": {
     "end_time": "2022-12-09T19:52:26.841305Z",
     "start_time": "2022-12-09T19:52:26.835119Z"
    }
   },
   "outputs": [],
   "source": [
    "# Funtion to check the missing value count and percentage\n",
    "def missing_val_check(data):\n",
    "    \"\"\"\n",
    "    Input::data - A pandas dataframe\n",
    "    Output::Missing value report by column\n",
    "    \"\"\"\n",
    "    # Missing data check\n",
    "    total = data.isnull().sum().sort_values(ascending=False)\n",
    "    percent = (data.isnull().sum() / data.isnull().count()\n",
    "               ).sort_values(ascending=False)\n",
    "    missing_data = pd.concat(\n",
    "        [total, percent * 100], axis=1, keys=[\"Total\", \"Percent(%)\"]\n",
    "    )\n",
    "    return missing_data\n",
    "\n",
    "\n",
    "def get_box_plot(train):\n",
    "    cont_cols = list(train._get_numeric_data().columns)\n",
    "    fig, ax = plt.subplots(nrows=len(cont_cols) // 2 +\n",
    "                           1, ncols=2, figsize=(10, 10))\n",
    "\n",
    "    def func(x): return x.replace(\"_\", \" \").capitalize()\n",
    "    cols_corrected = list(map(func, cont_cols))\n",
    "\n",
    "    var_idx = 0\n",
    "\n",
    "    for i in range(len(cont_cols) // 2 + 1):\n",
    "        for j in range(2):\n",
    "            try:\n",
    "                sns.boxplot(train[cont_cols[var_idx]],\n",
    "                            ax=ax[i][j], color=\"red\")\n",
    "                ax[i][j].set_xlabel(cols_corrected[var_idx])\n",
    "                var_idx += 1\n",
    "            except:\n",
    "                break\n",
    "\n",
    "    fig.suptitle(\"Box plots for outliers\")\n"
   ]
  },
  {
   "cell_type": "code",
   "execution_count": 21,
   "id": "706a84e8",
   "metadata": {
    "ExecuteTime": {
     "end_time": "2022-12-09T19:52:27.275318Z",
     "start_time": "2022-12-09T19:52:26.974751Z"
    }
   },
   "outputs": [
    {
     "name": "stdout",
     "output_type": "stream",
     "text": [
      "(130663, 17)\n",
      "Index(['artist_name', 'track_id', 'track_name', 'acousticness', 'danceability',\n",
      "       'duration_ms', 'energy', 'instrumentalness', 'key', 'liveness',\n",
      "       'loudness', 'mode', 'speechiness', 'tempo', 'time_signature', 'valence',\n",
      "       'popularity'],\n",
      "      dtype='object')\n"
     ]
    }
   ],
   "source": [
    "audiodf = pd.read_csv(os.path.join(\"input\", \"SpotifyAudioFeaturesApril2019.csv\"))\n",
    "print(audiodf.shape)\n",
    "print(audiodf.columns)\n",
    "\n",
    "\n",
    "# Creating a duration feature coverted to minutes for intuitive understanding\n",
    "audiodf['duration_mins'] = audiodf['duration_ms'] / 60000\n",
    "\n",
    "audiodf.drop(['duration_ms'],axis = 1, inplace = True)"
   ]
  },
  {
   "cell_type": "markdown",
   "id": "562c657b",
   "metadata": {},
   "source": [
    "**Duplicates checks as per track_id:**"
   ]
  },
  {
   "cell_type": "code",
   "execution_count": 22,
   "id": "dfe02ad3",
   "metadata": {
    "ExecuteTime": {
     "end_time": "2022-12-09T19:52:27.338712Z",
     "start_time": "2022-12-09T19:52:27.320625Z"
    }
   },
   "outputs": [
    {
     "name": "stdout",
     "output_type": "stream",
     "text": [
      "Total Duplicates on the basis of tracks in the data 337\n"
     ]
    }
   ],
   "source": [
    "print(\"Total Duplicates on the basis of tracks in the data\" , audiodf[audiodf.duplicated(subset = 'track_id')].shape[0])"
   ]
  },
  {
   "cell_type": "markdown",
   "id": "d7b9c77a",
   "metadata": {},
   "source": [
    "**Lets look at the data statistics**"
   ]
  },
  {
   "cell_type": "code",
   "execution_count": 23,
   "id": "4efbe93d",
   "metadata": {
    "ExecuteTime": {
     "end_time": "2022-12-09T19:52:27.689315Z",
     "start_time": "2022-12-09T19:52:27.587456Z"
    }
   },
   "outputs": [
    {
     "data": {
      "text/html": [
       "<div>\n",
       "<style scoped>\n",
       "    .dataframe tbody tr th:only-of-type {\n",
       "        vertical-align: middle;\n",
       "    }\n",
       "\n",
       "    .dataframe tbody tr th {\n",
       "        vertical-align: top;\n",
       "    }\n",
       "\n",
       "    .dataframe thead th {\n",
       "        text-align: right;\n",
       "    }\n",
       "</style>\n",
       "<table border=\"1\" class=\"dataframe\">\n",
       "  <thead>\n",
       "    <tr style=\"text-align: right;\">\n",
       "      <th></th>\n",
       "      <th>count</th>\n",
       "      <th>mean</th>\n",
       "      <th>std</th>\n",
       "      <th>min</th>\n",
       "      <th>10%</th>\n",
       "      <th>25%</th>\n",
       "      <th>50%</th>\n",
       "      <th>75%</th>\n",
       "      <th>90%</th>\n",
       "      <th>99%</th>\n",
       "      <th>max</th>\n",
       "    </tr>\n",
       "  </thead>\n",
       "  <tbody>\n",
       "    <tr>\n",
       "      <th>acousticness</th>\n",
       "      <td>130663.0</td>\n",
       "      <td>0.342500</td>\n",
       "      <td>0.345641</td>\n",
       "      <td>0.000000</td>\n",
       "      <td>0.002440</td>\n",
       "      <td>0.031600</td>\n",
       "      <td>0.203000</td>\n",
       "      <td>0.636000</td>\n",
       "      <td>0.93000</td>\n",
       "      <td>0.994000</td>\n",
       "      <td>0.996000</td>\n",
       "    </tr>\n",
       "    <tr>\n",
       "      <th>danceability</th>\n",
       "      <td>130663.0</td>\n",
       "      <td>0.581468</td>\n",
       "      <td>0.190077</td>\n",
       "      <td>0.000000</td>\n",
       "      <td>0.310000</td>\n",
       "      <td>0.459000</td>\n",
       "      <td>0.605000</td>\n",
       "      <td>0.727000</td>\n",
       "      <td>0.80900</td>\n",
       "      <td>0.919000</td>\n",
       "      <td>0.996000</td>\n",
       "    </tr>\n",
       "    <tr>\n",
       "      <th>energy</th>\n",
       "      <td>130663.0</td>\n",
       "      <td>0.569196</td>\n",
       "      <td>0.260312</td>\n",
       "      <td>0.000000</td>\n",
       "      <td>0.163000</td>\n",
       "      <td>0.396000</td>\n",
       "      <td>0.603000</td>\n",
       "      <td>0.775000</td>\n",
       "      <td>0.89400</td>\n",
       "      <td>0.987000</td>\n",
       "      <td>1.000000</td>\n",
       "    </tr>\n",
       "    <tr>\n",
       "      <th>instrumentalness</th>\n",
       "      <td>130663.0</td>\n",
       "      <td>0.224018</td>\n",
       "      <td>0.360328</td>\n",
       "      <td>0.000000</td>\n",
       "      <td>0.000000</td>\n",
       "      <td>0.000000</td>\n",
       "      <td>0.000149</td>\n",
       "      <td>0.440000</td>\n",
       "      <td>0.89300</td>\n",
       "      <td>0.969000</td>\n",
       "      <td>1.000000</td>\n",
       "    </tr>\n",
       "    <tr>\n",
       "      <th>key</th>\n",
       "      <td>130663.0</td>\n",
       "      <td>5.231894</td>\n",
       "      <td>3.602701</td>\n",
       "      <td>0.000000</td>\n",
       "      <td>0.000000</td>\n",
       "      <td>2.000000</td>\n",
       "      <td>5.000000</td>\n",
       "      <td>8.000000</td>\n",
       "      <td>10.00000</td>\n",
       "      <td>11.000000</td>\n",
       "      <td>11.000000</td>\n",
       "    </tr>\n",
       "    <tr>\n",
       "      <th>liveness</th>\n",
       "      <td>130663.0</td>\n",
       "      <td>0.194886</td>\n",
       "      <td>0.167733</td>\n",
       "      <td>0.000000</td>\n",
       "      <td>0.076200</td>\n",
       "      <td>0.097500</td>\n",
       "      <td>0.124000</td>\n",
       "      <td>0.236000</td>\n",
       "      <td>0.38300</td>\n",
       "      <td>0.895000</td>\n",
       "      <td>0.999000</td>\n",
       "    </tr>\n",
       "    <tr>\n",
       "      <th>loudness</th>\n",
       "      <td>130663.0</td>\n",
       "      <td>-9.974006</td>\n",
       "      <td>6.544379</td>\n",
       "      <td>-60.000000</td>\n",
       "      <td>-19.276000</td>\n",
       "      <td>-11.898000</td>\n",
       "      <td>-7.979000</td>\n",
       "      <td>-5.684000</td>\n",
       "      <td>-4.20900</td>\n",
       "      <td>-2.082000</td>\n",
       "      <td>1.806000</td>\n",
       "    </tr>\n",
       "    <tr>\n",
       "      <th>mode</th>\n",
       "      <td>130663.0</td>\n",
       "      <td>0.607739</td>\n",
       "      <td>0.488256</td>\n",
       "      <td>0.000000</td>\n",
       "      <td>0.000000</td>\n",
       "      <td>0.000000</td>\n",
       "      <td>1.000000</td>\n",
       "      <td>1.000000</td>\n",
       "      <td>1.00000</td>\n",
       "      <td>1.000000</td>\n",
       "      <td>1.000000</td>\n",
       "    </tr>\n",
       "    <tr>\n",
       "      <th>speechiness</th>\n",
       "      <td>130663.0</td>\n",
       "      <td>0.112015</td>\n",
       "      <td>0.124327</td>\n",
       "      <td>0.000000</td>\n",
       "      <td>0.032000</td>\n",
       "      <td>0.038900</td>\n",
       "      <td>0.055900</td>\n",
       "      <td>0.129000</td>\n",
       "      <td>0.29400</td>\n",
       "      <td>0.553000</td>\n",
       "      <td>0.966000</td>\n",
       "    </tr>\n",
       "    <tr>\n",
       "      <th>tempo</th>\n",
       "      <td>130663.0</td>\n",
       "      <td>119.473353</td>\n",
       "      <td>30.159636</td>\n",
       "      <td>0.000000</td>\n",
       "      <td>80.426000</td>\n",
       "      <td>96.014000</td>\n",
       "      <td>120.027000</td>\n",
       "      <td>139.642000</td>\n",
       "      <td>160.01800</td>\n",
       "      <td>190.196900</td>\n",
       "      <td>249.983000</td>\n",
       "    </tr>\n",
       "    <tr>\n",
       "      <th>time_signature</th>\n",
       "      <td>130663.0</td>\n",
       "      <td>3.878986</td>\n",
       "      <td>0.514403</td>\n",
       "      <td>0.000000</td>\n",
       "      <td>3.000000</td>\n",
       "      <td>4.000000</td>\n",
       "      <td>4.000000</td>\n",
       "      <td>4.000000</td>\n",
       "      <td>4.00000</td>\n",
       "      <td>5.000000</td>\n",
       "      <td>5.000000</td>\n",
       "    </tr>\n",
       "    <tr>\n",
       "      <th>valence</th>\n",
       "      <td>130663.0</td>\n",
       "      <td>0.439630</td>\n",
       "      <td>0.259079</td>\n",
       "      <td>0.000000</td>\n",
       "      <td>0.097600</td>\n",
       "      <td>0.224000</td>\n",
       "      <td>0.420000</td>\n",
       "      <td>0.638000</td>\n",
       "      <td>0.81500</td>\n",
       "      <td>0.965000</td>\n",
       "      <td>1.000000</td>\n",
       "    </tr>\n",
       "    <tr>\n",
       "      <th>popularity</th>\n",
       "      <td>130663.0</td>\n",
       "      <td>24.208988</td>\n",
       "      <td>19.713191</td>\n",
       "      <td>0.000000</td>\n",
       "      <td>0.000000</td>\n",
       "      <td>7.000000</td>\n",
       "      <td>22.000000</td>\n",
       "      <td>38.000000</td>\n",
       "      <td>53.00000</td>\n",
       "      <td>73.000000</td>\n",
       "      <td>100.000000</td>\n",
       "    </tr>\n",
       "    <tr>\n",
       "      <th>duration_mins</th>\n",
       "      <td>130663.0</td>\n",
       "      <td>3.543885</td>\n",
       "      <td>2.052584</td>\n",
       "      <td>0.053383</td>\n",
       "      <td>1.912167</td>\n",
       "      <td>2.732042</td>\n",
       "      <td>3.365017</td>\n",
       "      <td>4.017458</td>\n",
       "      <td>4.98717</td>\n",
       "      <td>9.539393</td>\n",
       "      <td>93.500333</td>\n",
       "    </tr>\n",
       "  </tbody>\n",
       "</table>\n",
       "</div>"
      ],
      "text/plain": [
       "                     count        mean        std        min        10%  \\\n",
       "acousticness      130663.0    0.342500   0.345641   0.000000   0.002440   \n",
       "danceability      130663.0    0.581468   0.190077   0.000000   0.310000   \n",
       "energy            130663.0    0.569196   0.260312   0.000000   0.163000   \n",
       "instrumentalness  130663.0    0.224018   0.360328   0.000000   0.000000   \n",
       "key               130663.0    5.231894   3.602701   0.000000   0.000000   \n",
       "liveness          130663.0    0.194886   0.167733   0.000000   0.076200   \n",
       "loudness          130663.0   -9.974006   6.544379 -60.000000 -19.276000   \n",
       "mode              130663.0    0.607739   0.488256   0.000000   0.000000   \n",
       "speechiness       130663.0    0.112015   0.124327   0.000000   0.032000   \n",
       "tempo             130663.0  119.473353  30.159636   0.000000  80.426000   \n",
       "time_signature    130663.0    3.878986   0.514403   0.000000   3.000000   \n",
       "valence           130663.0    0.439630   0.259079   0.000000   0.097600   \n",
       "popularity        130663.0   24.208988  19.713191   0.000000   0.000000   \n",
       "duration_mins     130663.0    3.543885   2.052584   0.053383   1.912167   \n",
       "\n",
       "                        25%         50%         75%        90%         99%  \\\n",
       "acousticness       0.031600    0.203000    0.636000    0.93000    0.994000   \n",
       "danceability       0.459000    0.605000    0.727000    0.80900    0.919000   \n",
       "energy             0.396000    0.603000    0.775000    0.89400    0.987000   \n",
       "instrumentalness   0.000000    0.000149    0.440000    0.89300    0.969000   \n",
       "key                2.000000    5.000000    8.000000   10.00000   11.000000   \n",
       "liveness           0.097500    0.124000    0.236000    0.38300    0.895000   \n",
       "loudness         -11.898000   -7.979000   -5.684000   -4.20900   -2.082000   \n",
       "mode               0.000000    1.000000    1.000000    1.00000    1.000000   \n",
       "speechiness        0.038900    0.055900    0.129000    0.29400    0.553000   \n",
       "tempo             96.014000  120.027000  139.642000  160.01800  190.196900   \n",
       "time_signature     4.000000    4.000000    4.000000    4.00000    5.000000   \n",
       "valence            0.224000    0.420000    0.638000    0.81500    0.965000   \n",
       "popularity         7.000000   22.000000   38.000000   53.00000   73.000000   \n",
       "duration_mins      2.732042    3.365017    4.017458    4.98717    9.539393   \n",
       "\n",
       "                         max  \n",
       "acousticness        0.996000  \n",
       "danceability        0.996000  \n",
       "energy              1.000000  \n",
       "instrumentalness    1.000000  \n",
       "key                11.000000  \n",
       "liveness            0.999000  \n",
       "loudness            1.806000  \n",
       "mode                1.000000  \n",
       "speechiness         0.966000  \n",
       "tempo             249.983000  \n",
       "time_signature      5.000000  \n",
       "valence             1.000000  \n",
       "popularity        100.000000  \n",
       "duration_mins      93.500333  "
      ]
     },
     "execution_count": 23,
     "metadata": {},
     "output_type": "execute_result"
    }
   ],
   "source": [
    "audiodf.describe([.1,.25,.5,.75,.9,.99]).T"
   ]
  },
  {
   "cell_type": "code",
   "execution_count": 24,
   "id": "ea29f178",
   "metadata": {
    "ExecuteTime": {
     "end_time": "2022-12-09T19:52:27.932103Z",
     "start_time": "2022-12-09T19:52:27.745539Z"
    }
   },
   "outputs": [
    {
     "data": {
      "text/html": [
       "<div>\n",
       "<style scoped>\n",
       "    .dataframe tbody tr th:only-of-type {\n",
       "        vertical-align: middle;\n",
       "    }\n",
       "\n",
       "    .dataframe tbody tr th {\n",
       "        vertical-align: top;\n",
       "    }\n",
       "\n",
       "    .dataframe thead th {\n",
       "        text-align: right;\n",
       "    }\n",
       "</style>\n",
       "<table border=\"1\" class=\"dataframe\">\n",
       "  <thead>\n",
       "    <tr style=\"text-align: right;\">\n",
       "      <th></th>\n",
       "      <th>count</th>\n",
       "      <th>unique</th>\n",
       "      <th>top</th>\n",
       "      <th>freq</th>\n",
       "    </tr>\n",
       "  </thead>\n",
       "  <tbody>\n",
       "    <tr>\n",
       "      <th>artist_name</th>\n",
       "      <td>130663</td>\n",
       "      <td>34621</td>\n",
       "      <td>Johann Sebastian Bach</td>\n",
       "      <td>3621</td>\n",
       "    </tr>\n",
       "    <tr>\n",
       "      <th>track_id</th>\n",
       "      <td>130663</td>\n",
       "      <td>130326</td>\n",
       "      <td>0UBafqn0HVWRceDnOv2SZu</td>\n",
       "      <td>4</td>\n",
       "    </tr>\n",
       "    <tr>\n",
       "      <th>track_name</th>\n",
       "      <td>130663</td>\n",
       "      <td>108890</td>\n",
       "      <td>Intro</td>\n",
       "      <td>108</td>\n",
       "    </tr>\n",
       "  </tbody>\n",
       "</table>\n",
       "</div>"
      ],
      "text/plain": [
       "              count  unique                     top  freq\n",
       "artist_name  130663   34621   Johann Sebastian Bach  3621\n",
       "track_id     130663  130326  0UBafqn0HVWRceDnOv2SZu     4\n",
       "track_name   130663  108890                   Intro   108"
      ]
     },
     "execution_count": 24,
     "metadata": {},
     "output_type": "execute_result"
    }
   ],
   "source": [
    "audiodf.drop_duplicates().describe(include = ['O']).T"
   ]
  },
  {
   "cell_type": "markdown",
   "id": "fe4deeb1",
   "metadata": {},
   "source": [
    "The stats looks fine however some of features might contain outlier which needs to be taken care of.\n",
    "\n",
    "1) Majority of songs have a duration of 3.36 mins however some of the songs have the duration greater than 10 mins which needs to be treated. We can see the 99th percentile value to be close to 9.54 minutes. Lets remove all the songs greater than 10 mins of duration. \n",
    "\n",
    "2) In some tempo, time_signature is 0 which is not possible hence a potential anomoly in the data, hence such value will add noise to our model. We will be taking all songs with tempo & time_signature > 0\n",
    "\n",
    "3) In some songs, duration is <1 min. As per our research songs have minimum duration of 1 mins else its not a song it is an abstract of the same. In addition some songs are greater than 10 mins of duration. As per our research we tried to search and found that some songs in the data are pure noise or podcasts which is out of scope for this analysis. Hence we will remove the songs with <1min of duration and greater than 10 mins of duration. 10 mins taken from 99 percentile of data split.\n",
    "\n",
    "4) We also observe some songs to have 0 polularity. But our assumption is that songs can have 0 popularity hence keeping this feature as it is."
   ]
  },
  {
   "cell_type": "code",
   "execution_count": 25,
   "id": "f2e646c2",
   "metadata": {
    "ExecuteTime": {
     "end_time": "2022-12-09T19:52:28.480253Z",
     "start_time": "2022-12-09T19:52:28.451183Z"
    }
   },
   "outputs": [],
   "source": [
    "class Data_Preprocessing_SP(object):\n",
    "    def __init__(self, data = None, subset_on = None, keep='first', song_duration_min_cutoff = 1, song_duration_max_cutoff = 10):\n",
    "        self.data = data\n",
    "        self.subset_on = subset_on\n",
    "        self.keep = keep\n",
    "        self.song_duration_min_cutoff = song_duration_min_cutoff\n",
    "        self.song_duration_max_cutoff = song_duration_max_cutoff\n",
    "    \n",
    "    def duplicate_removal(self):\n",
    "        \"\"\"\n",
    "        Removes duplicate on a primary key given\n",
    "        \"\"\"\n",
    "        print(\"\\n1. Duplicate Data Check & Removal if any\")\n",
    "        print(\"\\nTotal duplicates on {} level are {}\".format(self.subset_on, self.data[self.data.duplicated(subset = 'track_id')].shape[0]))\n",
    "        \n",
    "        self.data = self.data.drop_duplicates(subset = ['track_id'], keep = self.keep)\n",
    "        \n",
    "        print(\"\\nTotal duplicates on {} level post treatment: {}\".format(self.subset_on, self.data[self.data.duplicated(subset = 'track_id')].shape[0]))\n",
    "        print(\"\\nDuplicate Data treated\")\n",
    "        return self.data\n",
    "        \n",
    "    def intuitive_outlier_removal(self):\n",
    "        print(\"\\n2. Outlier removing engine started\")\n",
    "        print(\"\\nRemoving outliers in duration (mins) of songs\")\n",
    "        \n",
    "        self.data = self.data.query(f\"duration_mins>={self.song_duration_min_cutoff} and duration_mins<={self.song_duration_max_cutoff}\")\n",
    "        \n",
    "        print(\"\\nRemoving songs with 0 tempo and time signature\")\n",
    "        \n",
    "        self.data = self.data.query(\"tempo>0 and time_signature>0\")\n",
    "        \n",
    "        print(\"\\nIntuitive outliers removed\")\n",
    "        return self.data\n",
    "    \n",
    "    def runner(self):\n",
    "        print(\"=====Data Cleaning on Song Polularity Data started====\")\n",
    "        self.data = self.duplicate_removal()\n",
    "        self.data = self.intuitive_outlier_removal()\n",
    "        print(\"\\n=====Data Cleaning on Song Polularity Data completed====\")\n",
    "        return self.data"
   ]
  },
  {
   "cell_type": "code",
   "execution_count": 26,
   "id": "483d99a3",
   "metadata": {
    "ExecuteTime": {
     "end_time": "2022-12-09T19:52:28.775992Z",
     "start_time": "2022-12-09T19:52:28.676799Z"
    }
   },
   "outputs": [
    {
     "name": "stdout",
     "output_type": "stream",
     "text": [
      "=====Data Cleaning on Song Polularity Data started====\n",
      "\n",
      "1. Duplicate Data Check & Removal if any\n",
      "\n",
      "Total duplicates on track_id level are 337\n",
      "\n",
      "Total duplicates on track_id level post treatment: 0\n",
      "\n",
      "Duplicate Data treated\n",
      "\n",
      "2. Outlier removing engine started\n",
      "\n",
      "Removing outliers in duration (mins) of songs\n",
      "\n",
      "Removing songs with 0 tempo and time signature\n",
      "\n",
      "Intuitive outliers removed\n",
      "\n",
      "=====Data Cleaning on Song Polularity Data completed====\n"
     ]
    }
   ],
   "source": [
    "data_preprocess = Data_Preprocessing_SP(data = audiodf, subset_on = 'track_id', keep='first', song_duration_min_cutoff = 1, song_duration_max_cutoff = 10)\n",
    "audiodf = data_preprocess.runner()"
   ]
  },
  {
   "cell_type": "code",
   "execution_count": 27,
   "id": "214d2afb",
   "metadata": {
    "ExecuteTime": {
     "end_time": "2022-12-09T19:52:28.997759Z",
     "start_time": "2022-12-09T19:52:28.984955Z"
    }
   },
   "outputs": [
    {
     "data": {
      "text/html": [
       "<div>\n",
       "<style scoped>\n",
       "    .dataframe tbody tr th:only-of-type {\n",
       "        vertical-align: middle;\n",
       "    }\n",
       "\n",
       "    .dataframe tbody tr th {\n",
       "        vertical-align: top;\n",
       "    }\n",
       "\n",
       "    .dataframe thead th {\n",
       "        text-align: right;\n",
       "    }\n",
       "</style>\n",
       "<table border=\"1\" class=\"dataframe\">\n",
       "  <thead>\n",
       "    <tr style=\"text-align: right;\">\n",
       "      <th></th>\n",
       "      <th>artist_name</th>\n",
       "      <th>track_id</th>\n",
       "      <th>track_name</th>\n",
       "      <th>acousticness</th>\n",
       "      <th>danceability</th>\n",
       "      <th>energy</th>\n",
       "      <th>instrumentalness</th>\n",
       "      <th>key</th>\n",
       "      <th>liveness</th>\n",
       "      <th>loudness</th>\n",
       "      <th>mode</th>\n",
       "      <th>speechiness</th>\n",
       "      <th>tempo</th>\n",
       "      <th>time_signature</th>\n",
       "      <th>valence</th>\n",
       "      <th>popularity</th>\n",
       "      <th>duration_mins</th>\n",
       "    </tr>\n",
       "  </thead>\n",
       "  <tbody>\n",
       "    <tr>\n",
       "      <th>0</th>\n",
       "      <td>YG</td>\n",
       "      <td>2RM4jf1Xa9zPgMGRDiht8O</td>\n",
       "      <td>Big Bank feat. 2 Chainz, Big Sean, Nicki Minaj</td>\n",
       "      <td>0.005820</td>\n",
       "      <td>0.743</td>\n",
       "      <td>0.339</td>\n",
       "      <td>0.000</td>\n",
       "      <td>1</td>\n",
       "      <td>0.0812</td>\n",
       "      <td>-7.678</td>\n",
       "      <td>1</td>\n",
       "      <td>0.4090</td>\n",
       "      <td>203.927</td>\n",
       "      <td>4</td>\n",
       "      <td>0.118</td>\n",
       "      <td>15</td>\n",
       "      <td>3.972883</td>\n",
       "    </tr>\n",
       "    <tr>\n",
       "      <th>1</th>\n",
       "      <td>YG</td>\n",
       "      <td>1tHDG53xJNGsItRA3vfVgs</td>\n",
       "      <td>BAND DRUM (feat. A$AP Rocky)</td>\n",
       "      <td>0.024400</td>\n",
       "      <td>0.846</td>\n",
       "      <td>0.557</td>\n",
       "      <td>0.000</td>\n",
       "      <td>8</td>\n",
       "      <td>0.2860</td>\n",
       "      <td>-7.259</td>\n",
       "      <td>1</td>\n",
       "      <td>0.4570</td>\n",
       "      <td>159.009</td>\n",
       "      <td>4</td>\n",
       "      <td>0.371</td>\n",
       "      <td>0</td>\n",
       "      <td>3.580000</td>\n",
       "    </tr>\n",
       "    <tr>\n",
       "      <th>2</th>\n",
       "      <td>R3HAB</td>\n",
       "      <td>6Wosx2euFPMT14UXiWudMy</td>\n",
       "      <td>Radio Silence</td>\n",
       "      <td>0.025000</td>\n",
       "      <td>0.603</td>\n",
       "      <td>0.723</td>\n",
       "      <td>0.000</td>\n",
       "      <td>9</td>\n",
       "      <td>0.0824</td>\n",
       "      <td>-5.890</td>\n",
       "      <td>0</td>\n",
       "      <td>0.0454</td>\n",
       "      <td>114.966</td>\n",
       "      <td>4</td>\n",
       "      <td>0.382</td>\n",
       "      <td>56</td>\n",
       "      <td>2.315217</td>\n",
       "    </tr>\n",
       "    <tr>\n",
       "      <th>3</th>\n",
       "      <td>Chris Cooq</td>\n",
       "      <td>3J2Jpw61sO7l6Hc7qdYV91</td>\n",
       "      <td>Lactose</td>\n",
       "      <td>0.029400</td>\n",
       "      <td>0.800</td>\n",
       "      <td>0.579</td>\n",
       "      <td>0.912</td>\n",
       "      <td>5</td>\n",
       "      <td>0.0994</td>\n",
       "      <td>-12.118</td>\n",
       "      <td>0</td>\n",
       "      <td>0.0701</td>\n",
       "      <td>123.003</td>\n",
       "      <td>4</td>\n",
       "      <td>0.641</td>\n",
       "      <td>0</td>\n",
       "      <td>2.089683</td>\n",
       "    </tr>\n",
       "    <tr>\n",
       "      <th>4</th>\n",
       "      <td>Chris Cooq</td>\n",
       "      <td>2jbYvQCyPgX3CdmAzeVeuS</td>\n",
       "      <td>Same - Original mix</td>\n",
       "      <td>0.000035</td>\n",
       "      <td>0.783</td>\n",
       "      <td>0.792</td>\n",
       "      <td>0.878</td>\n",
       "      <td>7</td>\n",
       "      <td>0.0332</td>\n",
       "      <td>-10.277</td>\n",
       "      <td>1</td>\n",
       "      <td>0.0661</td>\n",
       "      <td>120.047</td>\n",
       "      <td>4</td>\n",
       "      <td>0.928</td>\n",
       "      <td>0</td>\n",
       "      <td>2.066933</td>\n",
       "    </tr>\n",
       "  </tbody>\n",
       "</table>\n",
       "</div>"
      ],
      "text/plain": [
       "  artist_name                track_id  \\\n",
       "0          YG  2RM4jf1Xa9zPgMGRDiht8O   \n",
       "1          YG  1tHDG53xJNGsItRA3vfVgs   \n",
       "2       R3HAB  6Wosx2euFPMT14UXiWudMy   \n",
       "3  Chris Cooq  3J2Jpw61sO7l6Hc7qdYV91   \n",
       "4  Chris Cooq  2jbYvQCyPgX3CdmAzeVeuS   \n",
       "\n",
       "                                       track_name  acousticness  danceability  \\\n",
       "0  Big Bank feat. 2 Chainz, Big Sean, Nicki Minaj      0.005820         0.743   \n",
       "1                    BAND DRUM (feat. A$AP Rocky)      0.024400         0.846   \n",
       "2                                   Radio Silence      0.025000         0.603   \n",
       "3                                         Lactose      0.029400         0.800   \n",
       "4                             Same - Original mix      0.000035         0.783   \n",
       "\n",
       "   energy  instrumentalness  key  liveness  loudness  mode  speechiness  \\\n",
       "0   0.339             0.000    1    0.0812    -7.678     1       0.4090   \n",
       "1   0.557             0.000    8    0.2860    -7.259     1       0.4570   \n",
       "2   0.723             0.000    9    0.0824    -5.890     0       0.0454   \n",
       "3   0.579             0.912    5    0.0994   -12.118     0       0.0701   \n",
       "4   0.792             0.878    7    0.0332   -10.277     1       0.0661   \n",
       "\n",
       "     tempo  time_signature  valence  popularity  duration_mins  \n",
       "0  203.927               4    0.118          15       3.972883  \n",
       "1  159.009               4    0.371           0       3.580000  \n",
       "2  114.966               4    0.382          56       2.315217  \n",
       "3  123.003               4    0.641           0       2.089683  \n",
       "4  120.047               4    0.928           0       2.066933  "
      ]
     },
     "execution_count": 27,
     "metadata": {},
     "output_type": "execute_result"
    }
   ],
   "source": [
    "audiodf.head()"
   ]
  },
  {
   "cell_type": "markdown",
   "id": "112c51bd",
   "metadata": {},
   "source": [
    "# EDA"
   ]
  },
  {
   "cell_type": "code",
   "execution_count": 28,
   "id": "f35ab8fb",
   "metadata": {
    "ExecuteTime": {
     "end_time": "2022-12-09T19:52:34.205038Z",
     "start_time": "2022-12-09T19:52:29.539430Z"
    }
   },
   "outputs": [
    {
     "name": "stdout",
     "output_type": "stream",
     "text": [
      "                                 \u001b[1mNumeric Features Distribution                                  \n"
     ]
    },
    {
     "data": {
      "image/png": "[encoded data removed]",
      "text/plain": [
       "<Figure size 1080x864 with 14 Axes>"
      ]
     },
     "metadata": {
      "needs_background": "light"
     },
     "output_type": "display_data"
    }
   ],
   "source": [
    "import math\n",
    "print('\\033[1mNumeric Features Distribution'.center(100))\n",
    "\n",
    "n = 5\n",
    "cols = audiodf.columns.tolist()[3:]\n",
    "n_col = len(cols)\n",
    "\n",
    "clr=['r','g','b','g','b','r']\n",
    "\n",
    "plt.figure(\n",
    "    figsize=[15,4*math.ceil(n_col/n)])\n",
    "\n",
    "for i in range(n_col):\n",
    "    plt.subplot(math.ceil(n_col/3),n,i+1)\n",
    "    sns.distplot(audiodf[cols[i]],hist_kws=dict(edgecolor=\"black\", linewidth=2), bins=10, color=list(np.random.randint([255,255,255])/255))\n",
    "\n",
    "plt.tight_layout()\n",
    "plt.show()"
   ]
  },
  {
   "cell_type": "code",
   "execution_count": 29,
   "id": "e93613a6",
   "metadata": {
    "ExecuteTime": {
     "end_time": "2022-12-09T19:52:34.251549Z",
     "start_time": "2022-12-09T19:52:34.248609Z"
    }
   },
   "outputs": [
    {
     "data": {
      "text/plain": [
       "Index(['artist_name', 'track_id', 'track_name', 'acousticness', 'danceability',\n",
       "       'energy', 'instrumentalness', 'key', 'liveness', 'loudness', 'mode',\n",
       "       'speechiness', 'tempo', 'time_signature', 'valence', 'popularity',\n",
       "       'duration_mins'],\n",
       "      dtype='object')"
      ]
     },
     "execution_count": 29,
     "metadata": {},
     "output_type": "execute_result"
    }
   ],
   "source": [
    "audiodf.columns"
   ]
  },
  {
   "cell_type": "code",
   "execution_count": 79,
   "id": "3ce4489c",
   "metadata": {
    "ExecuteTime": {
     "end_time": "2022-12-09T22:35:32.022348Z",
     "start_time": "2022-12-09T22:35:31.815292Z"
    }
   },
   "outputs": [
    {
     "data": {
      "text/plain": [
       "<AxesSubplot:title={'center':'Average Traits of Top-Moderately-Low popular Songs'}>"
      ]
     },
     "execution_count": 79,
     "metadata": {},
     "output_type": "execute_result"
    },
    {
     "data": {
      "image/png": "[encoded data removed]",
      "text/plain": [
       "<Figure size 1440x720 with 1 Axes>"
      ]
     },
     "metadata": {
      "needs_background": "light"
     },
     "output_type": "display_data"
    }
   ],
   "source": [
    "check = audiodf[audiodf['popularity'].between(audiodf['popularity'].quantile(0.45),audiodf['popularity'].quantile(0.55))]\n",
    "check = check[['acousticness', 'danceability','energy', 'instrumentalness', 'liveness', 'mode','speechiness', 'valence']].head(20)\n",
    "check = check.T\n",
    "mid_20 = pd.DataFrame(check[check.columns].mean(axis = 1),columns = ['Mid 20 Songs'])\n",
    "\n",
    "check = audiodf.sort_values(by = 'popularity',ascending=False).head(20)[['acousticness', 'danceability','energy', 'instrumentalness', 'liveness', 'mode','speechiness', 'valence']]\n",
    "check = check.T\n",
    "top_20 = pd.DataFrame(check[check.columns].mean(axis = 1),columns = ['Top 20 Songs'])\n",
    "\n",
    "check = audiodf.sort_values(by = 'popularity',ascending=False).tail(20)[['acousticness', 'danceability','energy', 'instrumentalness', 'liveness', 'mode','speechiness', 'valence']]\n",
    "check = check.T\n",
    "bottom_20 = pd.DataFrame(check[check.columns].mean(axis = 1),columns = ['Bottom 20 Songs'])\n",
    "\n",
    "top_bottom = pd.concat([top_20,mid_20, bottom_20], axis = 1)\n",
    "\n",
    "top_bottom.plot(title = 'Average Traits of Top-Moderately-Low popular Songs', figsize=(20,10),linewidth=2,kind = 'bar' )"
   ]
  },
  {
   "cell_type": "markdown",
   "id": "eded5bea",
   "metadata": {},
   "source": [
    "Key Highlights: Popular songs have accousticness close to "
   ]
  }
 ],
 "metadata": {
  "kernelspec": {
   "display_name": "Python 3 (ipykernel)",
   "language": "python",
   "name": "python3"
  },
  "language_info": {
   "codemirror_mode": {
    "name": "ipython",
    "version": 3
   },
   "file_extension": ".py",
   "mimetype": "text/x-python",
   "name": "python",
   "nbconvert_exporter": "python",
   "pygments_lexer": "ipython3",
   "version": "3.9.12"
  },
  "varInspector": {
   "cols": {
    "lenName": 16,
    "lenType": 16,
    "lenVar": 40
   },
   "kernels_config": {
    "python": {
     "delete_cmd_postfix": "",
     "delete_cmd_prefix": "del ",
     "library": "var_list.py",
     "varRefreshCmd": "print(var_dic_list())"
    },
    "r": {
     "delete_cmd_postfix": ") ",
     "delete_cmd_prefix": "rm(",
     "library": "var_list.r",
     "varRefreshCmd": "cat(var_dic_list()) "
    }
   },
   "types_to_exclude": [
    "module",
    "function",
    "builtin_function_or_method",
    "instance",
    "_Feature"
   ],
   "window_display": false
  }
 },
 "nbformat": 4,
 "nbformat_minor": 5
}
